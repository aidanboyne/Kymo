{
 "cells": [
  {
   "cell_type": "markdown",
   "id": "1b18ca2c",
   "metadata": {},
   "source": [
    "# Generate pre-labeled kymographs for testing VAE\n",
    "#### Capstone Group L\n",
    "\n",
    "Provides an interface for generating sample artificial kymographs and generating datasets of arbitrariy size, characteristics for training and validating VAE models."
   ]
  },
  {
   "cell_type": "code",
   "execution_count": 1,
   "id": "0f7dfc62",
   "metadata": {},
   "outputs": [],
   "source": [
    "#Required Packages\n",
    "import numpy as np\n",
    "from matplotlib import pyplot as plt\n",
    "import random\n",
    "from scipy.ndimage import convolve\n",
    "from ipywidgets import interact, interact_manual\n",
    "import json\n",
    "from json import JSONEncoder\n",
    "from PIL import Image\n",
    "import pandas as pd\n",
    "import os\n",
    "from torch.utils.data import Dataset\n",
    "import torch"
   ]
  },
  {
   "cell_type": "code",
   "execution_count": 2,
   "id": "136d7823",
   "metadata": {},
   "outputs": [],
   "source": [
    "#common variables\n",
    "pi = np.pi\n",
    "work_dir = os.path.abspath(os.path.join(os.getcwd(), '..'))\n",
    "exp_json = os.path.join(work_dir, 'Datateam/imset1/experimental_kymograph.json')\n",
    "class ExpKymoDataset(Dataset):\n",
    "    def __init__(self):\n",
    "        #data loading\n",
    "        with open(exp_json, 'r') as f:\n",
    "            kymos = np.asarray(json.loads(f.read()))\n",
    "\n",
    "        smaller_extreme = np.min([np.abs(kymos.min()), np.abs(kymos.max())])\n",
    "        kymos = np.clip(kymos, -smaller_extreme, smaller_extreme)\n",
    "        #kymos = np.transpose(kymos, (2,0,1))\n",
    "\n",
    "        self.x = torch.from_numpy(kymos.astype('float32'))\n",
    "        self.n_samples = kymos.shape[0]\n",
    "\n",
    "    def __getitem__(self, index):\n",
    "        return torch.unsqueeze(self.x[:,:,index], 0)\n",
    "\n",
    "    def __len__(self):\n",
    "        return self.n_samples\n",
    "\n",
    "    def numpy(self):\n",
    "        return self.x.numpy()\n",
    "\n",
    "data = ExpKymoDataset()"
   ]
  },
  {
   "cell_type": "markdown",
   "id": "a217b226",
   "metadata": {},
   "source": [
    "#### Dataset Generator Functions"
   ]
  },
  {
   "cell_type": "code",
   "execution_count": 3,
   "id": "8412071e",
   "metadata": {},
   "outputs": [
    {
     "data": {
      "application/vnd.jupyter.widget-view+json": {
       "model_id": "efa64ef6d3fe4c0db59ec428e6259492",
       "version_major": 2,
       "version_minor": 0
      },
      "text/plain": [
       "interactive(children=(Dropdown(description='style', options=('sin', 'polar', 'random'), value='sin'), IntSlide…"
      ]
     },
     "metadata": {},
     "output_type": "display_data"
    }
   ],
   "source": [
    "@interact\n",
    "def KymogenGenerative(style=[\"sin\",\"polar\",\"random\"], height=(10, 40, 10), width=(20, 120, 20), plot=False):\n",
    "    \"\"\"Generates a matrix defining artifical kymograph. \"\"\"\n",
    "    \n",
    "    h,w = height, width\n",
    "    hscale = (h/100)\n",
    "    wscale = (w/200)\n",
    "\n",
    "    def sinkymo():\n",
    "        #Base assignments\n",
    "        domain = np.linspace(0,6*np.pi,w)\n",
    "        phase = (np.random.rand(1)*pi)\n",
    "        freq = (np.random.rand(1))\n",
    "        heatmap = np.random.normal(2.3,0.6,(h,w))\n",
    "        #heatmap = np.ones((h,w))\n",
    "\n",
    "        #callables\n",
    "        shiftsin = lambda t,phase,freq : 30*hscale*(np.sin(freq*t+phase))+50*hscale #base sin wave\n",
    "\n",
    "        #mid assigns\n",
    "        mapRange = np.array(shiftsin(domain,phase, freq))\n",
    "        normRange = (np.floor(mapRange))\n",
    "\n",
    "        for i in range(0,w):\n",
    "            if bool(random.getrandbits(1)):\n",
    "                for k in range(int(-13*hscale),int(12*hscale)):\n",
    "                    heatmap[int(normRange[i])+k,i] = 2.7-0.02*(i/(10*wscale))\n",
    "            else:\n",
    "                for k in range(int(-9*hscale),int(8*hscale)):\n",
    "                    heatmap[int(normRange[i])+k,i] = 3.2-0.03*(i/(10*wscale))\n",
    "\n",
    "        #plot smoothing\n",
    "        kernel_size = 6\n",
    "        kernel = 10*(np.ones((kernel_size,kernel_size))/ kernel_size)\n",
    "        heatmap = convolve(heatmap, kernel)\n",
    "        heatmap = convolve(heatmap, kernel)\n",
    "        \n",
    "        return heatmap\n",
    "\n",
    "    def polkymo():\n",
    "        domain = np.linspace(0,6*np.pi,w)\n",
    "        heatmap = np.random.normal(1,0.5,(h,w))\n",
    "        \n",
    "        for i in range(0,w):\n",
    "            if bool(random.getrandbits(1)):\n",
    "                for k in range(0,int(7*hscale)):\n",
    "                    heatmap[h-(k+1),i] = 1+random.uniform(1, 2)-0.02*(i/(10*wscale))\n",
    "            else:\n",
    "                for k in range(0,int(5*hscale)):\n",
    "                    heatmap[h-(k+1),i] = 1+random.uniform(0.5, 3)-0.03*(i/(10*wscale))\n",
    "                    \n",
    "        #plot smoothing\n",
    "        kernel_size = 6\n",
    "        kernel = 10*(np.ones((kernel_size,kernel_size))/ kernel_size)\n",
    "        heatmap = convolve(heatmap, kernel)\n",
    "        heatmap = convolve(heatmap, kernel)\n",
    "      \n",
    "        return heatmap\n",
    "            \n",
    "    def randkymo():\n",
    "        heatmap = np.random.normal(0.5,0.1,(h,w))\n",
    "        for i in range(0,w):\n",
    "            for k in range(0,int(10*hscale)):\n",
    "                    heatmap[h-(k+1),i] = heatmap[h-(k+1),i] - 0.1\n",
    "            for k in range(0,int(10*hscale)):\n",
    "                    heatmap[-(h-(k+1)),i] = heatmap[-(h-(k+1)),i] - 0.1\n",
    "        kernel_size = 6\n",
    "        kernel = 40*(np.ones((kernel_size,kernel_size))/ kernel_size)\n",
    "        heatmap = convolve(heatmap, kernel)\n",
    "        heatmap = convolve(heatmap, kernel)\n",
    "        return heatmap\n",
    "        \n",
    "            \n",
    "    if style == \"sin\":\n",
    "        if plot:\n",
    "            plt.imshow((2*sinkymo()+randkymo())/1000, cmap='plasma')\n",
    "        else:\n",
    "            return sinkymo()\n",
    "    elif style == \"polar\":\n",
    "        if plot:\n",
    "            plt.imshow(polkymo(), cmap='plasma')\n",
    "        else:\n",
    "            return polkymo()\n",
    "    elif style == \"random\":\n",
    "        if plot:\n",
    "            plt.imshow(randkymo(), cmap='plasma')\n",
    "        else:\n",
    "            return randkymo()\n",
    "    else:\n",
    "        raise ValueError(\"'style' must be set to string 'sin', 'polar', or 'random'.\")"
   ]
  },
  {
   "cell_type": "code",
   "execution_count": 4,
   "id": "aa2643fe",
   "metadata": {},
   "outputs": [
    {
     "data": {
      "application/vnd.jupyter.widget-view+json": {
       "model_id": "0df492f38cfd4b71a44f646a4af116bc",
       "version_major": 2,
       "version_minor": 0
      },
      "text/plain": [
       "interactive(children=(Dropdown(description='style', options=('sin', 'polar', 'random'), value='sin'), IntSlide…"
      ]
     },
     "metadata": {},
     "output_type": "display_data"
    }
   ],
   "source": [
    "@interact\n",
    "def KymogenGenerative(style=[\"sin\",\"polar\",\"random\"], height=(10, 40, 10), width=(20, 120, 20), plot=False):\n",
    "    \"\"\"Generates a matrix defining artifical kymograph. \"\"\"\n",
    "    \n",
    "    h,w = height, width\n",
    "    hscale = (h/100)\n",
    "    wscale = (w/200)\n",
    "\n",
    "    def sinkymo():\n",
    "        #Base assignments\n",
    "        domain = np.linspace(0,6*np.pi,w)\n",
    "        phase = (np.random.rand(1)*pi)\n",
    "        freq = (np.random.rand(1))\n",
    "        heatmap = np.random.normal(2.3,0.6,(h,w))\n",
    "        #heatmap = np.ones((h,w))\n",
    "\n",
    "        #callables\n",
    "        shiftsin = lambda t,phase,freq : 30*hscale*(np.sin(freq*t+phase))+50*hscale #base sin wave\n",
    "\n",
    "        #mid assigns\n",
    "        mapRange = np.array(shiftsin(domain,phase, freq))\n",
    "        normRange = (np.floor(mapRange))\n",
    "\n",
    "        for i in range(0,w):\n",
    "            if bool(random.getrandbits(1)):\n",
    "                for k in range(int(-13*hscale),int(12*hscale)):\n",
    "                    heatmap[int(normRange[i])+k,i] = 2.7-0.02*(i/(10*wscale))\n",
    "            else:\n",
    "                for k in range(int(-9*hscale),int(8*hscale)):\n",
    "                    heatmap[int(normRange[i])+k,i] = 3.2-0.03*(i/(10*wscale))\n",
    "\n",
    "        #plot smoothing\n",
    "        kernel_size = 6\n",
    "        kernel = 10*(np.ones((kernel_size,kernel_size))/ kernel_size)\n",
    "        heatmap = convolve(heatmap, kernel)\n",
    "        heatmap = convolve(heatmap, kernel)\n",
    "        \n",
    "        return heatmap\n",
    "\n",
    "    def polkymo():\n",
    "        domain = np.linspace(0,6*np.pi,w)\n",
    "        heatmap = np.random.normal(1,0.5,(h,w))\n",
    "        \n",
    "        for i in range(0,w):\n",
    "            if bool(random.getrandbits(1)):\n",
    "                for k in range(0,int(7*hscale)):\n",
    "                    heatmap[h-(k+1),i] = 1+random.uniform(1, 2)-0.02*(i/(10*wscale))\n",
    "            else:\n",
    "                for k in range(0,int(5*hscale)):\n",
    "                    heatmap[h-(k+1),i] = 1+random.uniform(0.5, 3)-0.03*(i/(10*wscale))\n",
    "                    \n",
    "        #plot smoothing\n",
    "        kernel_size = 6\n",
    "        kernel = 10*(np.ones((kernel_size,kernel_size))/ kernel_size)\n",
    "        heatmap = convolve(heatmap, kernel)\n",
    "        heatmap = convolve(heatmap, kernel)\n",
    "      \n",
    "        return heatmap\n",
    "            \n",
    "    def randkymo():\n",
    "        heatmap = np.random.normal(0.5,0.1,(h,w))\n",
    "        for i in range(0,w):\n",
    "            for k in range(0,int(10*hscale)):\n",
    "                    heatmap[h-(k+1),i] = heatmap[h-(k+1),i] - 0.1\n",
    "            for k in range(0,int(10*hscale)):\n",
    "                    heatmap[-(h-(k+1)),i] = heatmap[-(h-(k+1)),i] - 0.1\n",
    "        kernel_size = 6\n",
    "        kernel = 40*(np.ones((kernel_size,kernel_size))/ kernel_size)\n",
    "        heatmap = convolve(heatmap, kernel)\n",
    "        heatmap = convolve(heatmap, kernel)\n",
    "        return heatmap\n",
    "        \n",
    "            \n",
    "    if style == \"sin\":\n",
    "        if plot:\n",
    "            plt.imshow((2*sinkymo()+randkymo())/1000, cmap='plasma')\n",
    "        else:\n",
    "            return sinkymo()\n",
    "    elif style == \"polar\":\n",
    "        if plot:\n",
    "            plt.imshow(polkymo(), cmap='plasma')\n",
    "        else:\n",
    "            return polkymo()\n",
    "    elif style == \"random\":\n",
    "        if plot:\n",
    "            plt.imshow(randkymo(), cmap='plasma')\n",
    "        else:\n",
    "            return randkymo()\n",
    "    else:\n",
    "        raise ValueError(\"'style' must be set to string 'sin', 'polar', or 'random'.\")"
   ]
  },
  {
   "cell_type": "code",
   "execution_count": 5,
   "id": "eb271d55",
   "metadata": {},
   "outputs": [
    {
     "data": {
      "application/vnd.jupyter.widget-view+json": {
       "model_id": "05d6539e4e154aabb92c9bb57b42fcfd",
       "version_major": 2,
       "version_minor": 0
      },
      "text/plain": [
       "interactive(children=(IntSlider(value=50, description='i'), Output()), _dom_classes=('widget-interact',))"
      ]
     },
     "metadata": {},
     "output_type": "display_data"
    }
   ],
   "source": [
    "@interact\n",
    "def exp(i = (0,100,1)):\n",
    "    plt.imshow(data[i].squeeze().detach().numpy(), cmap='plasma')"
   ]
  },
  {
   "cell_type": "code",
   "execution_count": 6,
   "id": "930f0a13",
   "metadata": {},
   "outputs": [],
   "source": [
    "def sampleGenerator(n, h, w, forms = ['sin','polar','random'], labeled = False):\n",
    "\n",
    "    \"\"\"Generates artificial dataset with n size hxw kymographs of each form specified\"\"\"\n",
    "\n",
    "    sampleSize = [n*len(forms),h,w]\n",
    "    sample = np.zeros(sampleSize)\n",
    "    j = 0\n",
    "\n",
    "    for i in range(len(forms)*n): #0:2\n",
    "        sample[i,:,:] = KymogenGenerative(style = forms[j], height=h, width=w)\n",
    "        if (i > 1 and int(i%100) == 0):\n",
    "            j = j+1\n",
    "            \n",
    "    return sample"
   ]
  },
  {
   "cell_type": "code",
   "execution_count": 7,
   "id": "2d1e398c",
   "metadata": {},
   "outputs": [],
   "source": [
    "#Custom JSON encoder for numpy tensors\n",
    "class NumpyTensor(JSONEncoder):\n",
    "    def default(self, obj):\n",
    "        if isinstance(obj, np.ndarray):\n",
    "            return obj.tolist()\n",
    "        return JSONEncoder.default(self, obj)"
   ]
  },
  {
   "cell_type": "code",
   "execution_count": 8,
   "id": "0fbb2509",
   "metadata": {},
   "outputs": [],
   "source": [
    "#JSON encoding process\n",
    "kymoset = sampleGenerator(100,20,60,forms=['sin','polar','random'])\n",
    "kymoset_data = {\"kymoset\": kymoset}\n",
    "kymoset_JSON = json.dumps(kymoset_data, cls=NumpyTensor)"
   ]
  },
  {
   "cell_type": "code",
   "execution_count": 9,
   "id": "a49341da",
   "metadata": {},
   "outputs": [],
   "source": [
    "def art(shape):\n",
    "    KymogenGenerative(style = shape, height=20, width=60, plot=True)"
   ]
  },
  {
   "cell_type": "code",
   "execution_count": 10,
   "id": "f0eeb7c3",
   "metadata": {},
   "outputs": [
    {
     "data": {
      "image/png": "[encoded data removed]",
      "text/plain": [
       "<Figure size 1500x450 with 6 Axes>"
      ]
     },
     "metadata": {},
     "output_type": "display_data"
    }
   ],
   "source": [
    "#Example decoding process (probably not necessary with pytorch dataloader) and demo of storage indicies\n",
    "decoded_kymo = np.asarray(json.loads(kymoset_JSON)[\"kymoset\"])\n",
    "plt.figure(figsize=(15,4.5))\n",
    "plt.subplot(2,3,1)\n",
    "plt.title('\\nNegative')\n",
    "art('random')\n",
    "plt.xticks(c='w')\n",
    "plt.yticks(c='w')\n",
    "plt.subplot(2,3,2)\n",
    "plt.title('Artificial Kymographs\\nOscillatory')\n",
    "art('sin')\n",
    "plt.xticks(c='w')\n",
    "plt.yticks(c='w')\n",
    "plt.subplot(2,3,3)\n",
    "plt.title('\\nPolar')\n",
    "art('polar')\n",
    "plt.xticks(c='w')\n",
    "plt.yticks(c='w')\n",
    "plt.subplot(2,3,4)\n",
    "plt.title('\\nNegative')\n",
    "plt.xticks(c='w')\n",
    "plt.yticks(c='w')\n",
    "exp(9)\n",
    "plt.subplot(2,3,5)\n",
    "plt.title('Experimental Kymographs\\nOscillatory')\n",
    "plt.xticks(c='w')\n",
    "plt.yticks(c='w')\n",
    "exp(20)\n",
    "plt.subplot(2,3,6)\n",
    "plt.title('\\nPolar')\n",
    "plt.xticks(c='w')\n",
    "plt.yticks(c='w')\n",
    "exp(51)"
   ]
  },
  {
   "cell_type": "code",
   "execution_count": 11,
   "id": "a9574f8a",
   "metadata": {},
   "outputs": [],
   "source": [
    "#Example dump to a file in local system\n",
    "datafolder = \"C:/Users/Aidan/Documents/Winter_2023/BE177B/Code/wonglab-capstone/Datateam/Artificial_imset\"\n",
    "with open(datafolder+'/artificial_kymographs.json', 'w') as f:\n",
    "  json.dump(kymoset_data, f, ensure_ascii=False, cls=NumpyTensor)"
   ]
  }
 ],
 "metadata": {
  "kernelspec": {
   "display_name": "Python 3 (ipykernel)",
   "language": "python",
   "name": "python3"
  },
  "language_info": {
   "codemirror_mode": {
    "name": "ipython",
    "version": 3
   },
   "file_extension": ".py",
   "mimetype": "text/x-python",
   "name": "python",
   "nbconvert_exporter": "python",
   "pygments_lexer": "ipython3",
   "version": "3.9.13"
  },
  "vscode": {
   "interpreter": {
    "hash": "f6ed3f38b1ef4c16f8a5be48bf66a1aded4ea0eb199bbc31dab9e5edd4e77510"
   }
  }
 },
 "nbformat": 4,
 "nbformat_minor": 5
}
